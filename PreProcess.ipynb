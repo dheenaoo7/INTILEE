{
 "cells": [
  {
   "cell_type": "code",
   "execution_count": 1,
   "metadata": {},
   "outputs": [
    {
     "name": "stdout",
     "output_type": "stream",
     "text": [
      "Preprocessing complete. Preprocessed data saved.\n"
     ]
    }
   ],
   "source": [
    "import json\n",
    "import pandas as pd\n",
    "from sklearn.feature_extraction.text import TfidfVectorizer\n",
    "\n",
    "# Step 1: Load JSON Data\n",
    "with open('/home/dheena/Downloads/Intiliee/output/output_code_data.json', 'r') as f:\n",
    "    data = json.load(f)\n",
    "\n",
    "# Step 2: Normalize and Extract Features\n",
    "records = []\n",
    "for item in data:\n",
    "    file_name = item['file_name']\n",
    "    functions = item['functions']\n",
    "    classes = item['classes']\n",
    "    code_snippets_functions = item['code_snippets']['functions']\n",
    "    code_snippets_classes = item['code_snippets']['classes']\n",
    "    \n",
    "    # Add function records with the correct code snippet for each function\n",
    "    for idx, func in enumerate(functions):\n",
    "        # Check if there's a corresponding code snippet for the function\n",
    "        code_snippet = code_snippets_functions[idx] if idx < len(code_snippets_functions) else None\n",
    "        records.append({\n",
    "            'file_name': file_name,\n",
    "            'name': func,\n",
    "            'type': 'function',\n",
    "            'code_snippet': code_snippet\n",
    "        })\n",
    "        \n",
    "    # Add class records with the correct code snippet for each class\n",
    "    for idx, cls in enumerate(classes):\n",
    "        # Check if there's a corresponding code snippet for the class\n",
    "        code_snippet = code_snippets_classes[idx] if idx < len(code_snippets_classes) else None\n",
    "        records.append({\n",
    "            'file_name': file_name,\n",
    "            'name': cls,\n",
    "            'type': 'class',\n",
    "            'code_snippet': code_snippet\n",
    "        })\n",
    "\n",
    "\n",
    "# Convert to DataFrame\n",
    "df = pd.DataFrame(records)\n",
    "\n",
    "# Step 3: Text Processing\n",
    "# Example: Using TF-IDF on code snippets (if available)\n",
    "vectorizer = TfidfVectorizer()\n",
    "X = vectorizer.fit_transform(df['code_snippet'].fillna(''))\n",
    "\n",
    "# You can also extract names as features if required\n",
    "X_names = vectorizer.fit_transform(df['name'])\n",
    "\n",
    "# Step 4: Combine Features\n",
    "# Ensure dimensions match before combining\n",
    "# This can be adjusted based on the features you need\n",
    "if X.shape[0] == X_names.shape[0]:\n",
    "    from scipy.sparse import hstack\n",
    "    X_combined = hstack([X, X_names])\n",
    "else:\n",
    "    print(\"Dimension mismatch between code snippets and names!\")\n",
    "\n",
    "# Step 5: Save Preprocessed Data\n",
    "df.to_csv('/home/dheena/Downloads/Intiliee/output/preprocessed_data.csv', index=False)\n",
    "\n",
    "print(\"Preprocessing complete. Preprocessed data saved.\")\n"
   ]
  }
 ],
 "metadata": {
  "kernelspec": {
   "display_name": "Python 3",
   "language": "python",
   "name": "python3"
  },
  "language_info": {
   "codemirror_mode": {
    "name": "ipython",
    "version": 3
   },
   "file_extension": ".py",
   "mimetype": "text/x-python",
   "name": "python",
   "nbconvert_exporter": "python",
   "pygments_lexer": "ipython3",
   "version": "3.10.12"
  }
 },
 "nbformat": 4,
 "nbformat_minor": 2
}
